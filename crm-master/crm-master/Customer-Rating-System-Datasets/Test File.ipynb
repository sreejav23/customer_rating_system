{
 "cells": [
  {
   "cell_type": "code",
   "execution_count": 1,
   "metadata": {},
   "outputs": [],
   "source": [
    "import pandas as pd"
   ]
  },
  {
   "cell_type": "code",
   "execution_count": 35,
   "metadata": {},
   "outputs": [],
   "source": [
    "df = pd.read_csv('customer_transactions.csv')"
   ]
  },
  {
   "cell_type": "code",
   "execution_count": 38,
   "metadata": {},
   "outputs": [
    {
     "data": {
      "text/html": [
       "<div>\n",
       "<style scoped>\n",
       "    .dataframe tbody tr th:only-of-type {\n",
       "        vertical-align: middle;\n",
       "    }\n",
       "\n",
       "    .dataframe tbody tr th {\n",
       "        vertical-align: top;\n",
       "    }\n",
       "\n",
       "    .dataframe thead th {\n",
       "        text-align: right;\n",
       "    }\n",
       "</style>\n",
       "<table border=\"1\" class=\"dataframe\">\n",
       "  <thead>\n",
       "    <tr style=\"text-align: right;\">\n",
       "      <th></th>\n",
       "      <th>Transfer_Key</th>\n",
       "      <th>Account_Key</th>\n",
       "      <th>Transaction_Amount(in $)</th>\n",
       "      <th>Transaction Type</th>\n",
       "      <th>Transaction_Origin/Destination</th>\n",
       "      <th>Transaction_Date</th>\n",
       "    </tr>\n",
       "  </thead>\n",
       "  <tbody>\n",
       "    <tr>\n",
       "      <th>0</th>\n",
       "      <td>K1</td>\n",
       "      <td>CASP_D04050165300009</td>\n",
       "      <td>50</td>\n",
       "      <td>INN</td>\n",
       "      <td>AF</td>\n",
       "      <td>01-01-2019</td>\n",
       "    </tr>\n",
       "    <tr>\n",
       "      <th>1</th>\n",
       "      <td>K2</td>\n",
       "      <td>CASP_D04050165300009</td>\n",
       "      <td>100</td>\n",
       "      <td>OUT</td>\n",
       "      <td>SR</td>\n",
       "      <td>02-01-2019</td>\n",
       "    </tr>\n",
       "    <tr>\n",
       "      <th>2</th>\n",
       "      <td>K3</td>\n",
       "      <td>CASP_D00630169780002</td>\n",
       "      <td>23</td>\n",
       "      <td>OUT</td>\n",
       "      <td>MM</td>\n",
       "      <td>03-01-2019</td>\n",
       "    </tr>\n",
       "    <tr>\n",
       "      <th>3</th>\n",
       "      <td>K4</td>\n",
       "      <td>CASP_D00630169780002</td>\n",
       "      <td>24</td>\n",
       "      <td>OUT</td>\n",
       "      <td>AF</td>\n",
       "      <td>04-01-2019</td>\n",
       "    </tr>\n",
       "    <tr>\n",
       "      <th>4</th>\n",
       "      <td>K5</td>\n",
       "      <td>CASP_D00630169780003</td>\n",
       "      <td>70</td>\n",
       "      <td>INN</td>\n",
       "      <td>PK</td>\n",
       "      <td>05-01-2019</td>\n",
       "    </tr>\n",
       "    <tr>\n",
       "      <th>...</th>\n",
       "      <td>...</td>\n",
       "      <td>...</td>\n",
       "      <td>...</td>\n",
       "      <td>...</td>\n",
       "      <td>...</td>\n",
       "      <td>...</td>\n",
       "    </tr>\n",
       "    <tr>\n",
       "      <th>132</th>\n",
       "      <td>L33</td>\n",
       "      <td>CASP_D00630169780012</td>\n",
       "      <td>100</td>\n",
       "      <td>1NN</td>\n",
       "      <td>TR</td>\n",
       "      <td>20-03-2020</td>\n",
       "    </tr>\n",
       "    <tr>\n",
       "      <th>133</th>\n",
       "      <td>L34</td>\n",
       "      <td>CASP_D00630169780012</td>\n",
       "      <td>20</td>\n",
       "      <td>1NN</td>\n",
       "      <td>SR</td>\n",
       "      <td>20-03-2020</td>\n",
       "    </tr>\n",
       "    <tr>\n",
       "      <th>134</th>\n",
       "      <td>L35</td>\n",
       "      <td>CASP_D00630169780012</td>\n",
       "      <td>40</td>\n",
       "      <td>OUT</td>\n",
       "      <td>TR</td>\n",
       "      <td>20-03-2020</td>\n",
       "    </tr>\n",
       "    <tr>\n",
       "      <th>135</th>\n",
       "      <td>L36</td>\n",
       "      <td>CASP_D00630169780013</td>\n",
       "      <td>30</td>\n",
       "      <td>INN</td>\n",
       "      <td>AF</td>\n",
       "      <td>20-03-2020</td>\n",
       "    </tr>\n",
       "    <tr>\n",
       "      <th>136</th>\n",
       "      <td>L37</td>\n",
       "      <td>CASP_D00630169780013</td>\n",
       "      <td>30</td>\n",
       "      <td>INN</td>\n",
       "      <td>AF</td>\n",
       "      <td>20-03-2020</td>\n",
       "    </tr>\n",
       "  </tbody>\n",
       "</table>\n",
       "<p>137 rows × 6 columns</p>\n",
       "</div>"
      ],
      "text/plain": [
       "    Transfer_Key           Account_Key   Transaction_Amount(in $)  \\\n",
       "0             K1  CASP_D04050165300009                         50   \n",
       "1             K2  CASP_D04050165300009                        100   \n",
       "2             K3  CASP_D00630169780002                         23   \n",
       "3             K4  CASP_D00630169780002                         24   \n",
       "4             K5  CASP_D00630169780003                         70   \n",
       "..           ...                   ...                        ...   \n",
       "132          L33  CASP_D00630169780012                        100   \n",
       "133          L34  CASP_D00630169780012                         20   \n",
       "134          L35  CASP_D00630169780012                         40   \n",
       "135          L36  CASP_D00630169780013                         30   \n",
       "136          L37  CASP_D00630169780013                         30   \n",
       "\n",
       "     Transaction Type  Transaction_Origin/Destination  Transaction_Date  \n",
       "0                 INN                              AF        01-01-2019  \n",
       "1                 OUT                              SR        02-01-2019  \n",
       "2                 OUT                              MM        03-01-2019  \n",
       "3                 OUT                              AF        04-01-2019  \n",
       "4                 INN                              PK        05-01-2019  \n",
       "..                ...                             ...               ...  \n",
       "132               1NN                              TR        20-03-2020  \n",
       "133               1NN                              SR        20-03-2020  \n",
       "134               OUT                              TR        20-03-2020  \n",
       "135               INN                              AF        20-03-2020  \n",
       "136               INN                              AF        20-03-2020  \n",
       "\n",
       "[137 rows x 6 columns]"
      ]
     },
     "execution_count": 38,
     "metadata": {},
     "output_type": "execute_result"
    }
   ],
   "source": [
    "df"
   ]
  },
  {
   "cell_type": "code",
   "execution_count": 39,
   "metadata": {},
   "outputs": [],
   "source": [
    "df.columns = ['Key', 'Acckey', 'Amount', 'Type', 'Country', 'Date']"
   ]
  },
  {
   "cell_type": "code",
   "execution_count": 40,
   "metadata": {},
   "outputs": [
    {
     "data": {
      "text/html": [
       "<div>\n",
       "<style scoped>\n",
       "    .dataframe tbody tr th:only-of-type {\n",
       "        vertical-align: middle;\n",
       "    }\n",
       "\n",
       "    .dataframe tbody tr th {\n",
       "        vertical-align: top;\n",
       "    }\n",
       "\n",
       "    .dataframe thead th {\n",
       "        text-align: right;\n",
       "    }\n",
       "</style>\n",
       "<table border=\"1\" class=\"dataframe\">\n",
       "  <thead>\n",
       "    <tr style=\"text-align: right;\">\n",
       "      <th></th>\n",
       "      <th>Key</th>\n",
       "      <th>Acckey</th>\n",
       "      <th>Amount</th>\n",
       "      <th>Type</th>\n",
       "      <th>Country</th>\n",
       "      <th>Date</th>\n",
       "    </tr>\n",
       "  </thead>\n",
       "  <tbody>\n",
       "    <tr>\n",
       "      <th>0</th>\n",
       "      <td>K1</td>\n",
       "      <td>CASP_D04050165300009</td>\n",
       "      <td>50</td>\n",
       "      <td>INN</td>\n",
       "      <td>AF</td>\n",
       "      <td>01-01-2019</td>\n",
       "    </tr>\n",
       "    <tr>\n",
       "      <th>1</th>\n",
       "      <td>K2</td>\n",
       "      <td>CASP_D04050165300009</td>\n",
       "      <td>100</td>\n",
       "      <td>OUT</td>\n",
       "      <td>SR</td>\n",
       "      <td>02-01-2019</td>\n",
       "    </tr>\n",
       "    <tr>\n",
       "      <th>2</th>\n",
       "      <td>K3</td>\n",
       "      <td>CASP_D00630169780002</td>\n",
       "      <td>23</td>\n",
       "      <td>OUT</td>\n",
       "      <td>MM</td>\n",
       "      <td>03-01-2019</td>\n",
       "    </tr>\n",
       "    <tr>\n",
       "      <th>3</th>\n",
       "      <td>K4</td>\n",
       "      <td>CASP_D00630169780002</td>\n",
       "      <td>24</td>\n",
       "      <td>OUT</td>\n",
       "      <td>AF</td>\n",
       "      <td>04-01-2019</td>\n",
       "    </tr>\n",
       "    <tr>\n",
       "      <th>4</th>\n",
       "      <td>K5</td>\n",
       "      <td>CASP_D00630169780003</td>\n",
       "      <td>70</td>\n",
       "      <td>INN</td>\n",
       "      <td>PK</td>\n",
       "      <td>05-01-2019</td>\n",
       "    </tr>\n",
       "    <tr>\n",
       "      <th>...</th>\n",
       "      <td>...</td>\n",
       "      <td>...</td>\n",
       "      <td>...</td>\n",
       "      <td>...</td>\n",
       "      <td>...</td>\n",
       "      <td>...</td>\n",
       "    </tr>\n",
       "    <tr>\n",
       "      <th>132</th>\n",
       "      <td>L33</td>\n",
       "      <td>CASP_D00630169780012</td>\n",
       "      <td>100</td>\n",
       "      <td>1NN</td>\n",
       "      <td>TR</td>\n",
       "      <td>20-03-2020</td>\n",
       "    </tr>\n",
       "    <tr>\n",
       "      <th>133</th>\n",
       "      <td>L34</td>\n",
       "      <td>CASP_D00630169780012</td>\n",
       "      <td>20</td>\n",
       "      <td>1NN</td>\n",
       "      <td>SR</td>\n",
       "      <td>20-03-2020</td>\n",
       "    </tr>\n",
       "    <tr>\n",
       "      <th>134</th>\n",
       "      <td>L35</td>\n",
       "      <td>CASP_D00630169780012</td>\n",
       "      <td>40</td>\n",
       "      <td>OUT</td>\n",
       "      <td>TR</td>\n",
       "      <td>20-03-2020</td>\n",
       "    </tr>\n",
       "    <tr>\n",
       "      <th>135</th>\n",
       "      <td>L36</td>\n",
       "      <td>CASP_D00630169780013</td>\n",
       "      <td>30</td>\n",
       "      <td>INN</td>\n",
       "      <td>AF</td>\n",
       "      <td>20-03-2020</td>\n",
       "    </tr>\n",
       "    <tr>\n",
       "      <th>136</th>\n",
       "      <td>L37</td>\n",
       "      <td>CASP_D00630169780013</td>\n",
       "      <td>30</td>\n",
       "      <td>INN</td>\n",
       "      <td>AF</td>\n",
       "      <td>20-03-2020</td>\n",
       "    </tr>\n",
       "  </tbody>\n",
       "</table>\n",
       "<p>137 rows × 6 columns</p>\n",
       "</div>"
      ],
      "text/plain": [
       "     Key                Acckey  Amount Type Country        Date\n",
       "0     K1  CASP_D04050165300009      50  INN      AF  01-01-2019\n",
       "1     K2  CASP_D04050165300009     100  OUT      SR  02-01-2019\n",
       "2     K3  CASP_D00630169780002      23  OUT      MM  03-01-2019\n",
       "3     K4  CASP_D00630169780002      24  OUT      AF  04-01-2019\n",
       "4     K5  CASP_D00630169780003      70  INN      PK  05-01-2019\n",
       "..   ...                   ...     ...  ...     ...         ...\n",
       "132  L33  CASP_D00630169780012     100  1NN      TR  20-03-2020\n",
       "133  L34  CASP_D00630169780012      20  1NN      SR  20-03-2020\n",
       "134  L35  CASP_D00630169780012      40  OUT      TR  20-03-2020\n",
       "135  L36  CASP_D00630169780013      30  INN      AF  20-03-2020\n",
       "136  L37  CASP_D00630169780013      30  INN      AF  20-03-2020\n",
       "\n",
       "[137 rows x 6 columns]"
      ]
     },
     "execution_count": 40,
     "metadata": {},
     "output_type": "execute_result"
    }
   ],
   "source": [
    "df"
   ]
  },
  {
   "cell_type": "code",
   "execution_count": 42,
   "metadata": {},
   "outputs": [],
   "source": [
    "persons = df.groupby('Acckey')"
   ]
  },
  {
   "cell_type": "code",
   "execution_count": 76,
   "metadata": {},
   "outputs": [],
   "source": [
    "h2_sum_of_incomming_greater_than = 1000\n",
    "h3_sum_of_outing_greater_than = 800\n",
    "h4_number_of_transactions_in_a_day = 20  \n",
    "\n",
    "m2_sum_of_incomming_greater_than = 600\n",
    "m2_sum_of_incomming_less_than = 1000\n",
    "m3_sum_of_outing_greater_than = 500\n",
    "m3_sum_of_outing_greater_than = 800\n",
    "m4_number_of_transactions_lessthan_in_a_day = 20  \n",
    "m4_number_of_transactions_greaterthan_in_a_day = 10  \n",
    "\n",
    "\n",
    "l1_sum_of_incomming_less_than = 1000\n",
    "l1_sum_of_outing_less_than = 500\n",
    "l1_number_of_transactions_lessthan_in_a_day = 10"
   ]
  },
  {
   "cell_type": "code",
   "execution_count": 77,
   "metadata": {},
   "outputs": [],
   "source": [
    "df = pd.read_csv('../Customer-Rating-System-Datasets/customer_transactions.csv')\n",
    "names = pd.read_csv('../Customer-Rating-System-Datasets/customer_account_info.csv')\n",
    "df.columns = ['Key', 'Acckey', 'Amount', 'Type', 'Country', 'Date']\n",
    "persons = df.groupby('Acckey')\n",
    "\n",
    "high = set()\n",
    "medium = set()\n",
    "low = set()\n",
    "\n",
    "for group_name, df_group in persons:\n",
    "    t_group = df_group.groupby('Type')\n",
    "\n",
    "    for type_grp, grp in t_group:\n",
    "        #In cond\n",
    "        total = grp['Amount'].sum()\n",
    "        if type_grp=='INN' and total>h2_sum_of_incomming_greater_than:\n",
    "            high.add(group_name)\n",
    "        elif type_grp=='INN' and total>m2_sum_of_incomming_greater_than:\n",
    "            medium.add(group_name)\n",
    "        else:\n",
    "            low.add(group_name)\n",
    "\n",
    "        #Out condn\n",
    "        if type_grp=='OUT' and total>h3_sum_of_outing_greater_than:\n",
    "            high.add(group_name)\n",
    "        elif type_grp=='OUT' and total>m3_sum_of_outing_greater_than:\n",
    "            medium.add(group_name)\n",
    "        else:\n",
    "            low.add(group_name)"
   ]
  },
  {
   "cell_type": "code",
   "execution_count": 78,
   "metadata": {},
   "outputs": [
    {
     "data": {
      "text/plain": [
       "{'CASP_D00630169780009', 'CASP_D00630169780019', 'CASP_D00630169780020'}"
      ]
     },
     "execution_count": 78,
     "metadata": {},
     "output_type": "execute_result"
    }
   ],
   "source": [
    "high"
   ]
  },
  {
   "cell_type": "code",
   "execution_count": 79,
   "metadata": {},
   "outputs": [
    {
     "data": {
      "text/plain": [
       "set()"
      ]
     },
     "execution_count": 79,
     "metadata": {},
     "output_type": "execute_result"
    }
   ],
   "source": [
    "medium"
   ]
  },
  {
   "cell_type": "code",
   "execution_count": 80,
   "metadata": {},
   "outputs": [
    {
     "data": {
      "text/plain": [
       "{'CASP_D00630169780001',\n",
       " 'CASP_D00630169780002',\n",
       " 'CASP_D00630169780003',\n",
       " 'CASP_D00630169780004',\n",
       " 'CASP_D00630169780005',\n",
       " 'CASP_D00630169780006',\n",
       " 'CASP_D00630169780007',\n",
       " 'CASP_D00630169780008',\n",
       " 'CASP_D00630169780009',\n",
       " 'CASP_D00630169780010',\n",
       " 'CASP_D00630169780011',\n",
       " 'CASP_D00630169780012',\n",
       " 'CASP_D00630169780013',\n",
       " 'CASP_D00630169780014',\n",
       " 'CASP_D00630169780015',\n",
       " 'CASP_D00630169780016',\n",
       " 'CASP_D00630169780017',\n",
       " 'CASP_D00630169780018',\n",
       " 'CASP_D00630169780019',\n",
       " 'CASP_D00630169780020',\n",
       " 'CASP_D00630169780021',\n",
       " 'CASP_D00630169780022',\n",
       " 'CASP_D04050165300009'}"
      ]
     },
     "execution_count": 80,
     "metadata": {},
     "output_type": "execute_result"
    }
   ],
   "source": [
    "low"
   ]
  },
  {
   "cell_type": "code",
   "execution_count": 81,
   "metadata": {},
   "outputs": [],
   "source": [
    "high = pd.DataFrame(high)"
   ]
  },
  {
   "cell_type": "code",
   "execution_count": 82,
   "metadata": {},
   "outputs": [
    {
     "data": {
      "text/html": [
       "<div>\n",
       "<style scoped>\n",
       "    .dataframe tbody tr th:only-of-type {\n",
       "        vertical-align: middle;\n",
       "    }\n",
       "\n",
       "    .dataframe tbody tr th {\n",
       "        vertical-align: top;\n",
       "    }\n",
       "\n",
       "    .dataframe thead th {\n",
       "        text-align: right;\n",
       "    }\n",
       "</style>\n",
       "<table border=\"1\" class=\"dataframe\">\n",
       "  <thead>\n",
       "    <tr style=\"text-align: right;\">\n",
       "      <th></th>\n",
       "      <th>0</th>\n",
       "    </tr>\n",
       "  </thead>\n",
       "  <tbody>\n",
       "    <tr>\n",
       "      <th>0</th>\n",
       "      <td>CASP_D00630169780020</td>\n",
       "    </tr>\n",
       "    <tr>\n",
       "      <th>1</th>\n",
       "      <td>CASP_D00630169780019</td>\n",
       "    </tr>\n",
       "    <tr>\n",
       "      <th>2</th>\n",
       "      <td>CASP_D00630169780009</td>\n",
       "    </tr>\n",
       "  </tbody>\n",
       "</table>\n",
       "</div>"
      ],
      "text/plain": [
       "                      0\n",
       "0  CASP_D00630169780020\n",
       "1  CASP_D00630169780019\n",
       "2  CASP_D00630169780009"
      ]
     },
     "execution_count": 82,
     "metadata": {},
     "output_type": "execute_result"
    }
   ],
   "source": [
    "high"
   ]
  },
  {
   "cell_type": "code",
   "execution_count": 83,
   "metadata": {},
   "outputs": [],
   "source": [
    "high.columns = ['Acckey']"
   ]
  },
  {
   "cell_type": "code",
   "execution_count": 84,
   "metadata": {},
   "outputs": [
    {
     "data": {
      "text/html": [
       "<div>\n",
       "<style scoped>\n",
       "    .dataframe tbody tr th:only-of-type {\n",
       "        vertical-align: middle;\n",
       "    }\n",
       "\n",
       "    .dataframe tbody tr th {\n",
       "        vertical-align: top;\n",
       "    }\n",
       "\n",
       "    .dataframe thead th {\n",
       "        text-align: right;\n",
       "    }\n",
       "</style>\n",
       "<table border=\"1\" class=\"dataframe\">\n",
       "  <thead>\n",
       "    <tr style=\"text-align: right;\">\n",
       "      <th></th>\n",
       "      <th>Acckey</th>\n",
       "    </tr>\n",
       "  </thead>\n",
       "  <tbody>\n",
       "    <tr>\n",
       "      <th>0</th>\n",
       "      <td>CASP_D00630169780020</td>\n",
       "    </tr>\n",
       "    <tr>\n",
       "      <th>1</th>\n",
       "      <td>CASP_D00630169780019</td>\n",
       "    </tr>\n",
       "    <tr>\n",
       "      <th>2</th>\n",
       "      <td>CASP_D00630169780009</td>\n",
       "    </tr>\n",
       "  </tbody>\n",
       "</table>\n",
       "</div>"
      ],
      "text/plain": [
       "                 Acckey\n",
       "0  CASP_D00630169780020\n",
       "1  CASP_D00630169780019\n",
       "2  CASP_D00630169780009"
      ]
     },
     "execution_count": 84,
     "metadata": {},
     "output_type": "execute_result"
    }
   ],
   "source": [
    "high"
   ]
  },
  {
   "cell_type": "code",
   "execution_count": 86,
   "metadata": {},
   "outputs": [],
   "source": [
    "names.columns = ['Acckey', 'Key', 'date']"
   ]
  },
  {
   "cell_type": "code",
   "execution_count": 87,
   "metadata": {},
   "outputs": [
    {
     "data": {
      "text/html": [
       "<div>\n",
       "<style scoped>\n",
       "    .dataframe tbody tr th:only-of-type {\n",
       "        vertical-align: middle;\n",
       "    }\n",
       "\n",
       "    .dataframe tbody tr th {\n",
       "        vertical-align: top;\n",
       "    }\n",
       "\n",
       "    .dataframe thead th {\n",
       "        text-align: right;\n",
       "    }\n",
       "</style>\n",
       "<table border=\"1\" class=\"dataframe\">\n",
       "  <thead>\n",
       "    <tr style=\"text-align: right;\">\n",
       "      <th></th>\n",
       "      <th>Acckey</th>\n",
       "      <th>Key</th>\n",
       "      <th>date</th>\n",
       "    </tr>\n",
       "  </thead>\n",
       "  <tbody>\n",
       "    <tr>\n",
       "      <th>0</th>\n",
       "      <td>CASP_D04050165300009</td>\n",
       "      <td>C1245363788_00</td>\n",
       "      <td>28-02-2015</td>\n",
       "    </tr>\n",
       "    <tr>\n",
       "      <th>1</th>\n",
       "      <td>CASP_D00630169780001</td>\n",
       "      <td>C014581971C_00</td>\n",
       "      <td>28-02-2015</td>\n",
       "    </tr>\n",
       "    <tr>\n",
       "      <th>2</th>\n",
       "      <td>CASP_D00630169780002</td>\n",
       "      <td>C014831981K_00</td>\n",
       "      <td>31-03-2015</td>\n",
       "    </tr>\n",
       "    <tr>\n",
       "      <th>3</th>\n",
       "      <td>CASP_D00630169780003</td>\n",
       "      <td>C015471980N_00</td>\n",
       "      <td>28-02-2015</td>\n",
       "    </tr>\n",
       "    <tr>\n",
       "      <th>4</th>\n",
       "      <td>CASP_D00630169780004</td>\n",
       "      <td>C016051974E_00</td>\n",
       "      <td>28-02-2015</td>\n",
       "    </tr>\n",
       "    <tr>\n",
       "      <th>...</th>\n",
       "      <td>...</td>\n",
       "      <td>...</td>\n",
       "      <td>...</td>\n",
       "    </tr>\n",
       "    <tr>\n",
       "      <th>463</th>\n",
       "      <td>CASP_D00406002222555</td>\n",
       "      <td>C014063332C_00</td>\n",
       "      <td>12-12-2018</td>\n",
       "    </tr>\n",
       "    <tr>\n",
       "      <th>464</th>\n",
       "      <td>CASP_D00406002222666</td>\n",
       "      <td>C014062220C_00</td>\n",
       "      <td>13-12-2018</td>\n",
       "    </tr>\n",
       "    <tr>\n",
       "      <th>465</th>\n",
       "      <td>CASP_D00406002222777</td>\n",
       "      <td>C014062222C_00</td>\n",
       "      <td>14-12-2018</td>\n",
       "    </tr>\n",
       "    <tr>\n",
       "      <th>466</th>\n",
       "      <td>CASP_D00406002222888</td>\n",
       "      <td>C014063333C_00</td>\n",
       "      <td>15-12-2018</td>\n",
       "    </tr>\n",
       "    <tr>\n",
       "      <th>467</th>\n",
       "      <td>CASP_D00406002222999</td>\n",
       "      <td>C014064444C_00</td>\n",
       "      <td>16-12-2018</td>\n",
       "    </tr>\n",
       "  </tbody>\n",
       "</table>\n",
       "<p>468 rows × 3 columns</p>\n",
       "</div>"
      ],
      "text/plain": [
       "                   Acckey             Key        date\n",
       "0    CASP_D04050165300009  C1245363788_00  28-02-2015\n",
       "1    CASP_D00630169780001  C014581971C_00  28-02-2015\n",
       "2    CASP_D00630169780002  C014831981K_00  31-03-2015\n",
       "3    CASP_D00630169780003  C015471980N_00  28-02-2015\n",
       "4    CASP_D00630169780004  C016051974E_00  28-02-2015\n",
       "..                    ...             ...         ...\n",
       "463  CASP_D00406002222555  C014063332C_00  12-12-2018\n",
       "464  CASP_D00406002222666  C014062220C_00  13-12-2018\n",
       "465  CASP_D00406002222777  C014062222C_00  14-12-2018\n",
       "466  CASP_D00406002222888  C014063333C_00  15-12-2018\n",
       "467  CASP_D00406002222999  C014064444C_00  16-12-2018\n",
       "\n",
       "[468 rows x 3 columns]"
      ]
     },
     "execution_count": 87,
     "metadata": {},
     "output_type": "execute_result"
    }
   ],
   "source": [
    "names"
   ]
  },
  {
   "cell_type": "code",
   "execution_count": 88,
   "metadata": {},
   "outputs": [],
   "source": [
    "high_keys = pd.merge(high, names, on='Acckey', how='inner')"
   ]
  },
  {
   "cell_type": "code",
   "execution_count": 90,
   "metadata": {},
   "outputs": [
    {
     "data": {
      "text/plain": [
       "0    C033521978Z_00\n",
       "1    C031911982N_00\n",
       "2    C022571975M_00\n",
       "Name: Key, dtype: object"
      ]
     },
     "execution_count": 90,
     "metadata": {},
     "output_type": "execute_result"
    }
   ],
   "source": [
    "high_keys['Key']"
   ]
  },
  {
   "cell_type": "code",
   "execution_count": null,
   "metadata": {},
   "outputs": [],
   "source": []
  }
 ],
 "metadata": {
  "kernelspec": {
   "display_name": "tensorflow",
   "language": "python",
   "name": "tensorflow"
  },
  "language_info": {
   "codemirror_mode": {
    "name": "ipython",
    "version": 3
   },
   "file_extension": ".py",
   "mimetype": "text/x-python",
   "name": "python",
   "nbconvert_exporter": "python",
   "pygments_lexer": "ipython3",
   "version": "3.8.5"
  }
 },
 "nbformat": 4,
 "nbformat_minor": 4
}
